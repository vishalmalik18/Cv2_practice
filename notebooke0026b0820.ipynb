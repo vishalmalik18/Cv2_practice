{
 "cells": [
  {
   "cell_type": "code",
   "execution_count": 1,
   "id": "ea8da4a7",
   "metadata": {
    "_cell_guid": "b1076dfc-b9ad-4769-8c92-a6c4dae69d19",
    "_uuid": "8f2839f25d086af736a60e9eeb907d3b93b6e0e5",
    "execution": {
     "iopub.execute_input": "2025-07-27T15:01:33.142160Z",
     "iopub.status.busy": "2025-07-27T15:01:33.141870Z",
     "iopub.status.idle": "2025-07-27T15:01:33.149440Z",
     "shell.execute_reply": "2025-07-27T15:01:33.148563Z"
    },
    "papermill": {
     "duration": 0.011688,
     "end_time": "2025-07-27T15:01:33.150849",
     "exception": false,
     "start_time": "2025-07-27T15:01:33.139161",
     "status": "completed"
    },
    "tags": []
   },
   "outputs": [
    {
     "name": "stdout",
     "output_type": "stream",
     "text": [
      "practice to connect kaggle to github\n"
     ]
    }
   ],
   "source": [
    "print(\"practice to connect kaggle to github\")"
   ]
  }
 ],
 "metadata": {
  "kaggle": {
   "accelerator": "none",
   "dataSources": [],
   "dockerImageVersionId": 31089,
   "isGpuEnabled": false,
   "isInternetEnabled": true,
   "language": "python",
   "sourceType": "notebook"
  },
  "kernelspec": {
   "display_name": "Python 3",
   "language": "python",
   "name": "python3"
  },
  "language_info": {
   "codemirror_mode": {
    "name": "ipython",
    "version": 3
   },
   "file_extension": ".py",
   "mimetype": "text/x-python",
   "name": "python",
   "nbconvert_exporter": "python",
   "pygments_lexer": "ipython3",
   "version": "3.11.13"
  },
  "papermill": {
   "default_parameters": {},
   "duration": 4.619538,
   "end_time": "2025-07-27T15:01:33.471084",
   "environment_variables": {},
   "exception": null,
   "input_path": "__notebook__.ipynb",
   "output_path": "__notebook__.ipynb",
   "parameters": {},
   "start_time": "2025-07-27T15:01:28.851546",
   "version": "2.6.0"
  }
 },
 "nbformat": 4,
 "nbformat_minor": 5
}
