{
 "cells": [
  {
   "cell_type": "code",
   "execution_count": 1,
   "id": "fc5fd6da-d179-4ae6-b08c-947643d720cc",
   "metadata": {},
   "outputs": [],
   "source": [
    "# !pip install numpy==1.24.3"
   ]
  },
  {
   "cell_type": "code",
   "execution_count": 2,
   "id": "ab739c20-f810-4714-84c6-87e5ebfcb90c",
   "metadata": {},
   "outputs": [],
   "source": [
    "# !pip install matplotlib==3.7.1"
   ]
  },
  {
   "cell_type": "code",
   "execution_count": 3,
   "id": "1fb4ed9a-90ee-4217-b159-4f1b39c11bf8",
   "metadata": {},
   "outputs": [],
   "source": [
    "import numpy as np\n",
    "import matplotlib.pyplot as plt"
   ]
  },
  {
   "cell_type": "code",
   "execution_count": 4,
   "id": "e702dc21-3c1b-45f6-8e76-3956aa913f49",
   "metadata": {},
   "outputs": [],
   "source": [
    "image = np.zeros((512,512,3))"
   ]
  },
  {
   "cell_type": "code",
   "execution_count": 5,
   "id": "4c4bba95-5552-4dc5-81e9-0f9fe37c397a",
   "metadata": {},
   "outputs": [
    {
     "data": {
      "text/plain": [
       "array([[[0., 0., 0.],\n",
       "        [0., 0., 0.],\n",
       "        [0., 0., 0.],\n",
       "        ...,\n",
       "        [0., 0., 0.],\n",
       "        [0., 0., 0.],\n",
       "        [0., 0., 0.]],\n",
       "\n",
       "       [[0., 0., 0.],\n",
       "        [0., 0., 0.],\n",
       "        [0., 0., 0.],\n",
       "        ...,\n",
       "        [0., 0., 0.],\n",
       "        [0., 0., 0.],\n",
       "        [0., 0., 0.]],\n",
       "\n",
       "       [[0., 0., 0.],\n",
       "        [0., 0., 0.],\n",
       "        [0., 0., 0.],\n",
       "        ...,\n",
       "        [0., 0., 0.],\n",
       "        [0., 0., 0.],\n",
       "        [0., 0., 0.]],\n",
       "\n",
       "       ...,\n",
       "\n",
       "       [[0., 0., 0.],\n",
       "        [0., 0., 0.],\n",
       "        [0., 0., 0.],\n",
       "        ...,\n",
       "        [0., 0., 0.],\n",
       "        [0., 0., 0.],\n",
       "        [0., 0., 0.]],\n",
       "\n",
       "       [[0., 0., 0.],\n",
       "        [0., 0., 0.],\n",
       "        [0., 0., 0.],\n",
       "        ...,\n",
       "        [0., 0., 0.],\n",
       "        [0., 0., 0.],\n",
       "        [0., 0., 0.]],\n",
       "\n",
       "       [[0., 0., 0.],\n",
       "        [0., 0., 0.],\n",
       "        [0., 0., 0.],\n",
       "        ...,\n",
       "        [0., 0., 0.],\n",
       "        [0., 0., 0.],\n",
       "        [0., 0., 0.]]])"
      ]
     },
     "execution_count": 5,
     "metadata": {},
     "output_type": "execute_result"
    }
   ],
   "source": [
    "image"
   ]
  },
  {
   "cell_type": "code",
   "execution_count": 6,
   "id": "956eb927-9ecc-4a0b-af83-88b9d61733d0",
   "metadata": {},
   "outputs": [],
   "source": [
    "image[100:200,100:200]=(0,23,56)"
   ]
  },
  {
   "cell_type": "code",
   "execution_count": 7,
   "id": "ed8d7d71-7bb7-49fd-9318-992c9c00c157",
   "metadata": {},
   "outputs": [],
   "source": [
    "import cv2"
   ]
  },
  {
   "cell_type": "code",
   "execution_count": 8,
   "id": "ed93ed90-b79b-48f5-ad5b-11cb1554900d",
   "metadata": {},
   "outputs": [],
   "source": [
    "cv2.imshow('black image',image)\n",
    "cv2.waitKey()\n",
    "cv2.destroyAllWindows()"
   ]
  },
  {
   "cell_type": "code",
   "execution_count": 9,
   "id": "af3e2ea4-0399-4ba7-a9f4-9baa90dcb4e6",
   "metadata": {},
   "outputs": [],
   "source": [
    "image = np.zeros((512,512,3))\n",
    "cv2.line(image,(0,0),(350,350),(19,0,170),3)\n",
    "cv2.imshow(\"line image\",image)\n",
    "cv2.waitKey()\n",
    "cv2.destroyAllWindows()"
   ]
  },
  {
   "cell_type": "code",
   "execution_count": null,
   "id": "a8c28077-81f2-4c2d-bb22-e44aa45bddf0",
   "metadata": {},
   "outputs": [],
   "source": []
  },
  {
   "cell_type": "code",
   "execution_count": 10,
   "id": "bd2a0174-c6f5-4722-8562-6c7194db89be",
   "metadata": {},
   "outputs": [],
   "source": [
    "image = np.zeros((512,512,3))\n",
    "cv2.line(image,(0,0),(350,350),(19,0,170),8)\n",
    "cv2.imshow(\"line image\",image)\n",
    "cv2.waitKey()\n",
    "cv2.destroyAllWindows()"
   ]
  },
  {
   "cell_type": "code",
   "execution_count": 14,
   "id": "828399f2-33bb-400e-b7b6-e21c035b2ff7",
   "metadata": {},
   "outputs": [],
   "source": [
    "image = np.zeros((512,512,3))\n",
    "cv2.rectangle(image,(100,100),(400,400),(19,0,170),3)\n",
    "cv2.imshow(\"rectangle image\",image)\n",
    "cv2.waitKey()\n",
    "cv2.destroyAllWindows()"
   ]
  },
  {
   "cell_type": "code",
   "execution_count": 12,
   "id": "f49a9e4c-0f87-4f98-81e6-6fd5cd927767",
   "metadata": {},
   "outputs": [],
   "source": [
    "image = np.zeros((512,512,3))\n",
    "cv2.rectangle(image,(100,100),(400,400),(19,0,170),10)\n",
    "cv2.imshow(\"rectangle image\",image)\n",
    "cv2.waitKey()\n",
    "cv2.destroyAllWindows()"
   ]
  },
  {
   "cell_type": "code",
   "execution_count": 15,
   "id": "cc1415dc-09bc-41e5-9a82-4b6b4bdba189",
   "metadata": {},
   "outputs": [],
   "source": [
    "image = np.zeros((512,512,3))\n",
    "cv2.rectangle(image,(100,100),(400,400),(19,0,170),1)\n",
    "cv2.imshow(\"rectangle image\",image)\n",
    "cv2.waitKey()\n",
    "cv2.destroyAllWindows()"
   ]
  },
  {
   "cell_type": "code",
   "execution_count": 16,
   "id": "60ee5e09-f9fc-47c6-871f-a358f7c86c1a",
   "metadata": {},
   "outputs": [],
   "source": [
    "image = np.zeros((512,512,3))\n",
    "cv2.rectangle(image,(100,100),(400,400),(19,0,170),0)\n",
    "cv2.imshow(\"rectangle image\",image)\n",
    "cv2.waitKey()\n",
    "cv2.destroyAllWindows()"
   ]
  },
  {
   "cell_type": "code",
   "execution_count": 17,
   "id": "71583556-7d9c-44d3-8352-547fc57b5f11",
   "metadata": {},
   "outputs": [],
   "source": [
    "image = np.zeros((512,512,3))\n",
    "cv2.rectangle(image,(100,100),(400,400),(19,0,170),100)\n",
    "cv2.imshow(\"rectangle image\",image)\n",
    "cv2.waitKey()\n",
    "cv2.destroyAllWindows()"
   ]
  },
  {
   "cell_type": "code",
   "execution_count": 18,
   "id": "4ffb69e9-09d2-4412-8268-7baa93f1dae8",
   "metadata": {},
   "outputs": [],
   "source": [
    "image = np.zeros((512,512,3))\n",
    "cv2.rectangle(image,(100,100),(400,400),(19,0,170),-1)\n",
    "cv2.imshow(\"rectangle image\",image)\n",
    "cv2.waitKey()\n",
    "cv2.destroyAllWindows()"
   ]
  },
  {
   "cell_type": "code",
   "execution_count": 19,
   "id": "a6528e5b-3253-4497-a0ca-6cfef3a0b3eb",
   "metadata": {},
   "outputs": [],
   "source": [
    "image = np.zeros((512,512,3))\n",
    "cv2.rectangle(image,(100,100),(400,400),(19,0,170),-1)\n",
    "cv2.imshow(\"rectangle image\",image)\n",
    "cv2.waitKey()\n",
    "cv2.destroyAllWindows()"
   ]
  },
  {
   "cell_type": "code",
   "execution_count": 20,
   "id": "c828fd4b-c1d2-4359-87ba-fd43b4e7244a",
   "metadata": {},
   "outputs": [],
   "source": [
    "image = np.zeros((512,512,3))\n",
    "cv2.circle(image,(300,300),100,(255,100,255),3)\n",
    "cv2.imshow(\"circle image\",image)\n",
    "cv2.waitKey()\n",
    "cv2.destroyAllWindows()"
   ]
  },
  {
   "cell_type": "code",
   "execution_count": 22,
   "id": "768c5deb-d511-4c8f-a289-2721358bb9ae",
   "metadata": {},
   "outputs": [],
   "source": [
    "image = np.zeros((512,512,3))\n",
    "cv2.circle(image,(300,300),100,(255,100,255),-1)\n",
    "cv2.imshow(\"circle image\",image)\n",
    "cv2.waitKey()\n",
    "cv2.destroyAllWindows()"
   ]
  },
  {
   "cell_type": "code",
   "execution_count": 24,
   "id": "dda5490d-15c4-458e-b083-403592b9057d",
   "metadata": {},
   "outputs": [],
   "source": [
    "image = np.zeros((512,512,3))\n",
    "pts = np.array([[10,50],[400,50],[90,200],[50,500]])\n",
    "pts = pts.reshape((-1,1,2))\n",
    "cv2.polylines(image,[pts],True,(200,0,100),3)\n",
    "cv2.imshow(\"polygon image\",image)\n",
    "cv2.waitKey()\n",
    "cv2.destroyAllWindows()"
   ]
  },
  {
   "cell_type": "code",
   "execution_count": 26,
   "id": "8b8bf03c-70d3-4dc0-8d11-73ab33df6719",
   "metadata": {},
   "outputs": [],
   "source": [
    "image = np.zeros((512,512,3))\n",
    "pts = np.array([[10,50],[400,50],[90,200],[50,500]])\n",
    "pts = pts.reshape((-1,1,2))\n",
    "cv2.polylines(image,[pts],False,(200,0,100),3)\n",
    "cv2.imshow(\"polygon image\",image)\n",
    "cv2.waitKey()\n",
    "cv2.destroyAllWindows()"
   ]
  },
  {
   "cell_type": "code",
   "execution_count": 27,
   "id": "02962648-b72a-4ba1-b266-992e1eefdb10",
   "metadata": {},
   "outputs": [],
   "source": [
    "images = np.zeros((512,512,3))\n",
    "pts = np.array([[10,50],[400,50],[90,200],[50,500]])\n",
    "cv2.fillPoly(image,[pts],(200,0,100))\n",
    "cv2.imshow(\"polygon image\",image)\n",
    "cv2.waitKey()\n",
    "cv2.destroyAllWindows()"
   ]
  },
  {
   "cell_type": "code",
   "execution_count": 28,
   "id": "e249278b-7b6e-4429-b5bd-8f3661c0c530",
   "metadata": {},
   "outputs": [],
   "source": [
    "image = np.zeros((512,512,3))\n",
    "cv2.putText(image,\"HELLO WORLD!\",(10,290),cv2.FONT_HERSHEY_COMPLEX,2,(100,170,0),1)\n",
    "cv2.imshow(\"TEXT IMAGE\",image)\n",
    "cv2.waitKey()\n",
    "cv2.destroyAllWindows()"
   ]
  },
  {
   "cell_type": "code",
   "execution_count": null,
   "id": "8975df0c-257a-4234-a27e-f49e84040da3",
   "metadata": {},
   "outputs": [],
   "source": []
  },
  {
   "cell_type": "code",
   "execution_count": 29,
   "id": "904de6d2-8559-42cc-9c7c-4fc5003ffda4",
   "metadata": {},
   "outputs": [],
   "source": [
    "image = cv2.imread(\"dog.jpeg\")\n",
    "cv2.imshow(\"original image\",image)\n",
    "kernel_sharpeing = np.array([[-1,-1,-1],[-1,9,-1],[-1,-1,-1]])\n",
    "sharpened = cv2.filter2D(image,-1,kernel_sharpeing)\n",
    "cv2.imshow(\"Sharpened image\",sharpened)\n",
    "cv2.waitKey()\n",
    "cv2.destroyAllWindows()"
   ]
  },
  {
   "cell_type": "code",
   "execution_count": 30,
   "id": "99421f4f-ae16-4af3-ae8f-62c4c8851adf",
   "metadata": {},
   "outputs": [],
   "source": [
    "image = cv2.imread(\"dog.jpeg\")\n",
    "cv2.imshow(\"original image\",image)\n",
    "_,thresh1 = cv2.threshold(image,127,255,cv2.THRESH_BINARY)\n",
    "cv2.imshow(\"binary image\",thresh1)\n",
    "_,thresh2 = cv2.threshold(image,127,255,cv2.THRESH_BINARY_INV)\n",
    "cv2.imshow(\"binary inv image\",thresh2)\n",
    "cv2.waitKey()\n",
    "cv2.destroyAllWindows()"
   ]
  },
  {
   "cell_type": "code",
   "execution_count": 31,
   "id": "6335150d-d50f-496e-8058-6de48623e7bd",
   "metadata": {},
   "outputs": [],
   "source": [
    "laplacian = cv2.Laplacian(image,cv2.CV_64F)\n",
    "cv2.imshow(\"laplacian image\",laplacian)\n",
    "canny = cv2.Canny(image,50,120)\n",
    "cv2.imshow(\"canny image\",canny)\n",
    "cv2.waitKey()\n",
    "cv2.destroyAllWindows()"
   ]
  },
  {
   "cell_type": "code",
   "execution_count": 34,
   "id": "92516324-f91d-4d69-b7b0-3eb95b0e0863",
   "metadata": {},
   "outputs": [],
   "source": [
    "def sketch(image):\n",
    "    img_gray=cv2.cvtColor(image,cv2.COLOR_BGR2GRAY)\n",
    "    img_gray_blur=cv2.GaussianBlur(img_gray,(5,5),0)\n",
    "    canny_edges=cv2.Canny(img_gray_blur,10,70)\n",
    "    _,mask=cv2.threshold(canny_edges,70,255,cv2.THRESH_BINARY)\n",
    "    return mask"
   ]
  },
  {
   "cell_type": "code",
   "execution_count": 36,
   "id": "19f375b0-2a97-4429-8f17-ab67228c5b4c",
   "metadata": {},
   "outputs": [],
   "source": [
    "cap = cv2.VideoCapture(0)\n",
    "while True:\n",
    "    ret,frame = cap.read()\n",
    "    cv2.imshow(\"Live sketch \",sketch(frame))\n",
    "    if cv2.waitKey(1)==13:\n",
    "        break\n",
    "cap.release()\n",
    "cv2.destroyAllWindows()"
   ]
  },
  {
   "cell_type": "code",
   "execution_count": null,
   "id": "a97b9137-b8ae-422b-a527-ed7ea8089669",
   "metadata": {},
   "outputs": [],
   "source": []
  },
  {
   "cell_type": "code",
   "execution_count": null,
   "id": "652657f6-e4c2-43da-aab9-87f47fcd70aa",
   "metadata": {},
   "outputs": [],
   "source": []
  },
  {
   "cell_type": "code",
   "execution_count": null,
   "id": "4224bc6b-e31c-4aa0-a230-3d332d5f0ba9",
   "metadata": {},
   "outputs": [],
   "source": []
  },
  {
   "cell_type": "code",
   "execution_count": null,
   "id": "4e5f7467-bea2-4cdc-8f40-10c18095370d",
   "metadata": {},
   "outputs": [],
   "source": []
  },
  {
   "cell_type": "code",
   "execution_count": null,
   "id": "03a6e1c2-6011-4262-a0cb-27bd2b33fd21",
   "metadata": {},
   "outputs": [],
   "source": []
  },
  {
   "cell_type": "code",
   "execution_count": null,
   "id": "1dec2007-fced-4c73-83a8-c3f9d49af262",
   "metadata": {},
   "outputs": [],
   "source": []
  },
  {
   "cell_type": "code",
   "execution_count": null,
   "id": "8d78d89b-6042-4d2b-a96e-4c2ee94db18b",
   "metadata": {},
   "outputs": [],
   "source": []
  },
  {
   "cell_type": "code",
   "execution_count": null,
   "id": "71bf0445-ec4d-4d6f-a680-42096a496a49",
   "metadata": {},
   "outputs": [],
   "source": []
  },
  {
   "cell_type": "code",
   "execution_count": null,
   "id": "aaa49aa9-d404-45d0-9fc9-713c2cd49e61",
   "metadata": {},
   "outputs": [],
   "source": []
  }
 ],
 "metadata": {
  "kernelspec": {
   "display_name": "Python 3 (ipykernel)",
   "language": "python",
   "name": "python3"
  },
  "language_info": {
   "codemirror_mode": {
    "name": "ipython",
    "version": 3
   },
   "file_extension": ".py",
   "mimetype": "text/x-python",
   "name": "python",
   "nbconvert_exporter": "python",
   "pygments_lexer": "ipython3",
   "version": "3.10.11"
  }
 },
 "nbformat": 4,
 "nbformat_minor": 5
}
